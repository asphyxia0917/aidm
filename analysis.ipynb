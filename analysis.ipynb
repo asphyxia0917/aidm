{
 "cells": [
  {
   "cell_type": "markdown",
   "metadata": {},
   "source": [
    "# 一、互关互粉分析"
   ]
  },
  {
   "cell_type": "code",
   "execution_count": 12,
   "metadata": {},
   "outputs": [
    {
     "data": {
      "text/html": [
       "<div>\n",
       "<style scoped>\n",
       "    .dataframe tbody tr th:only-of-type {\n",
       "        vertical-align: middle;\n",
       "    }\n",
       "\n",
       "    .dataframe tbody tr th {\n",
       "        vertical-align: top;\n",
       "    }\n",
       "\n",
       "    .dataframe thead th {\n",
       "        text-align: right;\n",
       "    }\n",
       "</style>\n",
       "<table border=\"1\" class=\"dataframe\">\n",
       "  <thead>\n",
       "    <tr style=\"text-align: right;\">\n",
       "      <th></th>\n",
       "      <th>following</th>\n",
       "    </tr>\n",
       "  </thead>\n",
       "  <tbody>\n",
       "    <tr>\n",
       "      <th>0</th>\n",
       "      <td>@MetroBoomin</td>\n",
       "    </tr>\n",
       "    <tr>\n",
       "      <th>1</th>\n",
       "      <td>@youngthug</td>\n",
       "    </tr>\n",
       "    <tr>\n",
       "      <th>2</th>\n",
       "      <td>@LaflameScott</td>\n",
       "    </tr>\n",
       "    <tr>\n",
       "      <th>3</th>\n",
       "      <td>@trvisXX</td>\n",
       "    </tr>\n",
       "    <tr>\n",
       "      <th>4</th>\n",
       "      <td>@therealmikedean</td>\n",
       "    </tr>\n",
       "    <tr>\n",
       "      <th>...</th>\n",
       "      <td>...</td>\n",
       "    </tr>\n",
       "    <tr>\n",
       "      <th>786</th>\n",
       "      <td>@TiaGreenRanger</td>\n",
       "    </tr>\n",
       "    <tr>\n",
       "      <th>787</th>\n",
       "      <td>@AngelsThrone</td>\n",
       "    </tr>\n",
       "    <tr>\n",
       "      <th>788</th>\n",
       "      <td>@JimmyFloss</td>\n",
       "    </tr>\n",
       "    <tr>\n",
       "      <th>789</th>\n",
       "      <td>@DannieOnAir</td>\n",
       "    </tr>\n",
       "    <tr>\n",
       "      <th>790</th>\n",
       "      <td>@itsSASHAbitchhh</td>\n",
       "    </tr>\n",
       "  </tbody>\n",
       "</table>\n",
       "<p>791 rows × 1 columns</p>\n",
       "</div>"
      ],
      "text/plain": [
       "            following\n",
       "0        @MetroBoomin\n",
       "1          @youngthug\n",
       "2       @LaflameScott\n",
       "3            @trvisXX\n",
       "4    @therealmikedean\n",
       "..                ...\n",
       "786   @TiaGreenRanger\n",
       "787     @AngelsThrone\n",
       "788       @JimmyFloss\n",
       "789      @DannieOnAir\n",
       "790  @itsSASHAbitchhh\n",
       "\n",
       "[791 rows x 1 columns]"
      ]
     },
     "execution_count": 12,
     "metadata": {},
     "output_type": "execute_result"
    }
   ],
   "source": [
    "import matplotlib.pyplot as plt\n",
    "plt.rcParams['font.sans-serif'] = ['SimHei']\n",
    "plt.rcParams['axes.unicode_minus'] = False\n",
    "\n",
    "import pandas as pd\n",
    "import numpy as np\n",
    "ls=[]\n",
    "\n",
    "with open(\"Travis_following.txt\", \"r\", encoding='utf8') as f:\n",
    "    for line in f.readlines():\n",
    "        line = line.strip('\\n').replace('’', \"'\").replace('‘', \"'\")\n",
    "        if '@' in line and len(line)<=16:\n",
    "            ls.append(line)\n",
    "#数据预处理\n",
    "data=pd.DataFrame(ls)\n",
    "data.columns=['following']\n",
    "data=data.dropna().drop_duplicates().reset_index(drop=True)\n",
    "\n",
    "def process(df):\n",
    "    if df[0]=='@':\n",
    "        z=df\n",
    "    else:\n",
    "        z=np.NaN\n",
    "    return z\n",
    "\n",
    "data['following']=data['following'].apply(lambda x:process(x))\n",
    "data=data.dropna().drop_duplicates().reset_index(drop=True)\n",
    "\n",
    "#following列表（会有多出的一些是following 的其他信息）\n",
    "data"
   ]
  },
  {
   "cell_type": "code",
   "execution_count": 13,
   "metadata": {},
   "outputs": [
    {
     "data": {
      "text/html": [
       "<div>\n",
       "<style scoped>\n",
       "    .dataframe tbody tr th:only-of-type {\n",
       "        vertical-align: middle;\n",
       "    }\n",
       "\n",
       "    .dataframe tbody tr th {\n",
       "        vertical-align: top;\n",
       "    }\n",
       "\n",
       "    .dataframe thead th {\n",
       "        text-align: right;\n",
       "    }\n",
       "</style>\n",
       "<table border=\"1\" class=\"dataframe\">\n",
       "  <thead>\n",
       "    <tr style=\"text-align: right;\">\n",
       "      <th></th>\n",
       "      <th>followers</th>\n",
       "    </tr>\n",
       "  </thead>\n",
       "  <tbody>\n",
       "    <tr>\n",
       "      <th>0</th>\n",
       "      <td>@dreamdoll</td>\n",
       "    </tr>\n",
       "    <tr>\n",
       "      <th>1</th>\n",
       "      <td>@HEIRMJ</td>\n",
       "    </tr>\n",
       "    <tr>\n",
       "      <th>2</th>\n",
       "      <td>@madeintyo</td>\n",
       "    </tr>\n",
       "    <tr>\n",
       "      <th>3</th>\n",
       "      <td>@inihelene</td>\n",
       "    </tr>\n",
       "    <tr>\n",
       "      <th>4</th>\n",
       "      <td>@virgil_30</td>\n",
       "    </tr>\n",
       "    <tr>\n",
       "      <th>...</th>\n",
       "      <td>...</td>\n",
       "    </tr>\n",
       "    <tr>\n",
       "      <th>163</th>\n",
       "      <td>@dash_radio</td>\n",
       "    </tr>\n",
       "    <tr>\n",
       "      <th>164</th>\n",
       "      <td>@Rosenbergradio</td>\n",
       "    </tr>\n",
       "    <tr>\n",
       "      <th>165</th>\n",
       "      <td>@MTV</td>\n",
       "    </tr>\n",
       "    <tr>\n",
       "      <th>166</th>\n",
       "      <td>@1Xtra</td>\n",
       "    </tr>\n",
       "    <tr>\n",
       "      <th>167</th>\n",
       "      <td>@BBCSounds</td>\n",
       "    </tr>\n",
       "  </tbody>\n",
       "</table>\n",
       "<p>168 rows × 1 columns</p>\n",
       "</div>"
      ],
      "text/plain": [
       "           followers\n",
       "0         @dreamdoll\n",
       "1            @HEIRMJ\n",
       "2         @madeintyo\n",
       "3         @inihelene\n",
       "4         @virgil_30\n",
       "..               ...\n",
       "163      @dash_radio\n",
       "164  @Rosenbergradio\n",
       "165             @MTV\n",
       "166           @1Xtra\n",
       "167       @BBCSounds\n",
       "\n",
       "[168 rows x 1 columns]"
      ]
     },
     "execution_count": 13,
     "metadata": {},
     "output_type": "execute_result"
    }
   ],
   "source": [
    "#处理followers\n",
    "ls=[]\n",
    "with open(\"Travis_followers.txt\", \"r\", encoding='utf8') as f:\n",
    "    for line in f.readlines():\n",
    "        line = line.strip('\\n').replace('’', \"'\").replace('‘', \"'\")\n",
    "        if '@' in line and len(line)<=16:\n",
    "            ls.append(line)\n",
    "#数据预处理\n",
    "data1=pd.DataFrame(ls)\n",
    "data1.columns=['followers']\n",
    "data1=data1.dropna().drop_duplicates().reset_index(drop=True)\n",
    "data1['followers']=data1['followers'].apply(lambda x:process(x))\n",
    "data1=data1.dropna().drop_duplicates().reset_index(drop=True)\n",
    "\n",
    "#followers 信息\n",
    "data1"
   ]
  },
  {
   "cell_type": "code",
   "execution_count": 14,
   "metadata": {},
   "outputs": [
    {
     "name": "stdout",
     "output_type": "stream",
     "text": [
      "互关比例：23.22%\n"
     ]
    }
   ],
   "source": [
    "#互关的人\n",
    "ls_following=data['following'].tolist()\n",
    "ls_followers=data1['followers'].tolist()\n",
    "both_following=[i for i in ls_following if i in ls_followers]\n",
    "print('互关比例：{}%'.format(str(round(len(both_following)/689*100,2))))"
   ]
  },
  {
   "cell_type": "code",
   "execution_count": 15,
   "metadata": {},
   "outputs": [
    {
     "data": {
      "text/html": [
       "<div>\n",
       "<style scoped>\n",
       "    .dataframe tbody tr th:only-of-type {\n",
       "        vertical-align: middle;\n",
       "    }\n",
       "\n",
       "    .dataframe tbody tr th {\n",
       "        vertical-align: top;\n",
       "    }\n",
       "\n",
       "    .dataframe thead th {\n",
       "        text-align: right;\n",
       "    }\n",
       "</style>\n",
       "<table border=\"1\" class=\"dataframe\">\n",
       "  <thead>\n",
       "    <tr style=\"text-align: right;\">\n",
       "      <th></th>\n",
       "      <th>tweet</th>\n",
       "    </tr>\n",
       "  </thead>\n",
       "  <tbody>\n",
       "    <tr>\n",
       "      <th>0</th>\n",
       "      <td>Metro Boomin</td>\n",
       "    </tr>\n",
       "    <tr>\n",
       "      <th>1</th>\n",
       "      <td>@MetroBoomin</td>\n",
       "    </tr>\n",
       "    <tr>\n",
       "      <th>2</th>\n",
       "      <td>28 and blessed. NOT ALL HEROES WEAR CAPES</td>\n",
       "    </tr>\n",
       "    <tr>\n",
       "      <th>3</th>\n",
       "      <td>Young Thug ひ</td>\n",
       "    </tr>\n",
       "    <tr>\n",
       "      <th>4</th>\n",
       "      <td>@youngthug</td>\n",
       "    </tr>\n",
       "    <tr>\n",
       "      <th>...</th>\n",
       "      <td>...</td>\n",
       "    </tr>\n",
       "    <tr>\n",
       "      <th>2040</th>\n",
       "      <td>@DannieOnAir</td>\n",
       "    </tr>\n",
       "    <tr>\n",
       "      <th>2041</th>\n",
       "      <td>High voltage sign Host High voltage sign TV Pr...</td>\n",
       "    </tr>\n",
       "    <tr>\n",
       "      <th>2042</th>\n",
       "      <td>ساشا</td>\n",
       "    </tr>\n",
       "    <tr>\n",
       "      <th>2043</th>\n",
       "      <td>@itsSASHAbitchhh</td>\n",
       "    </tr>\n",
       "    <tr>\n",
       "      <th>2044</th>\n",
       "      <td>been there, done that #thisaintmyfirstrodeo</td>\n",
       "    </tr>\n",
       "  </tbody>\n",
       "</table>\n",
       "<p>2045 rows × 1 columns</p>\n",
       "</div>"
      ],
      "text/plain": [
       "                                                  tweet\n",
       "0                                          Metro Boomin\n",
       "1                                          @MetroBoomin\n",
       "2             28 and blessed. NOT ALL HEROES WEAR CAPES\n",
       "3                                          Young Thug ひ\n",
       "4                                            @youngthug\n",
       "...                                                 ...\n",
       "2040                                       @DannieOnAir\n",
       "2041  High voltage sign Host High voltage sign TV Pr...\n",
       "2042                                               ساشا\n",
       "2043                                   @itsSASHAbitchhh\n",
       "2044        been there, done that #thisaintmyfirstrodeo\n",
       "\n",
       "[2045 rows x 1 columns]"
      ]
     },
     "execution_count": 15,
     "metadata": {},
     "output_type": "execute_result"
    }
   ],
   "source": [
    "#Scott 历史推文分析\n",
    "import pandas as pd\n",
    "import numpy as np\n",
    "ls=[]\n",
    "\n",
    "with open(\"Travis_following.txt\", \"r\", encoding='utf8') as f:\n",
    "    for line in f.readlines():\n",
    "        line = line.strip('\\n').replace('’', \"'\").replace('‘', \"'\")\n",
    "        ls.append(line)\n",
    "#数据预处理\n",
    "data=pd.DataFrame(ls)\n",
    "data.columns=['tweet']\n",
    "data=data.dropna().drop_duplicates().reset_index(drop=True)\n",
    "\n",
    "#历史推文大致情况\n",
    "data"
   ]
  },
  {
   "cell_type": "code",
   "execution_count": 16,
   "metadata": {},
   "outputs": [
    {
     "data": {
      "text/plain": [
       "MTV               6\n",
       "Genius            4\n",
       "Skrillex          3\n",
       "Migos             3\n",
       "djgregstreet      3\n",
       "                 ..\n",
       "DJSCREAM          1\n",
       "virgil_30         1\n",
       "WhoIsStevieJ      1\n",
       "youngchopbeatz    1\n",
       "peeweelongway     1\n",
       "Name: user, Length: 160, dtype: int64"
      ]
     },
     "execution_count": 16,
     "metadata": {},
     "output_type": "execute_result"
    }
   ],
   "source": [
    "#互动情况\n",
    "ls=[]\n",
    "for i in both_following:\n",
    "    i=i.replace('@','')\n",
    "    for j in range(len(data)):\n",
    "        if i in data['tweet'][j]:\n",
    "            ls.append((i,j))\n",
    "\n",
    "df = pd.DataFrame(ls)\n",
    "df.columns=['user','time']\n",
    "df['user'].value_counts()\n",
    "#df['user'].value_counts().to_excel('互关的人中推文提到的次数.xlsx')"
   ]
  },
  {
   "cell_type": "markdown",
   "metadata": {},
   "source": [
    "# 二、推特关键词文本分析"
   ]
  },
  {
   "cell_type": "code",
   "execution_count": 17,
   "metadata": {},
   "outputs": [
    {
     "data": {
      "text/html": [
       "<div>\n",
       "<style scoped>\n",
       "    .dataframe tbody tr th:only-of-type {\n",
       "        vertical-align: middle;\n",
       "    }\n",
       "\n",
       "    .dataframe tbody tr th {\n",
       "        vertical-align: top;\n",
       "    }\n",
       "\n",
       "    .dataframe thead th {\n",
       "        text-align: right;\n",
       "    }\n",
       "</style>\n",
       "<table border=\"1\" class=\"dataframe\">\n",
       "  <thead>\n",
       "    <tr style=\"text-align: right;\">\n",
       "      <th></th>\n",
       "      <th>text</th>\n",
       "    </tr>\n",
       "  </thead>\n",
       "  <tbody>\n",
       "    <tr>\n",
       "      <th>0</th>\n",
       "      <td>travis scott and olivia rodrigo were among the...</td>\n",
       "    </tr>\n",
       "    <tr>\n",
       "      <th>1</th>\n",
       "      <td>travis scott, olivia rodrigo's 'drivers licens...</td>\n",
       "    </tr>\n",
       "    <tr>\n",
       "      <th>2</th>\n",
       "      <td>travis scott and olivia rodrigo lead google's ...</td>\n",
       "    </tr>\n",
       "    <tr>\n",
       "      <th>3</th>\n",
       "      <td>travis scott and yb better</td>\n",
       "    </tr>\n",
       "    <tr>\n",
       "      <th>4</th>\n",
       "      <td>travis scott sa ibang bansa al james sa pilipi...</td>\n",
       "    </tr>\n",
       "    <tr>\n",
       "      <th>...</th>\n",
       "      <td>...</td>\n",
       "    </tr>\n",
       "    <tr>\n",
       "      <th>2201</th>\n",
       "      <td>breaking: drake allegedly slept with kylie jen...</td>\n",
       "    </tr>\n",
       "    <tr>\n",
       "      <th>2202</th>\n",
       "      <td>another bad day for drake fans, as he is accus...</td>\n",
       "    </tr>\n",
       "    <tr>\n",
       "      <th>2203</th>\n",
       "      <td>pessgo purrycrossed swordspirate flagbilled cap</td>\n",
       "    </tr>\n",
       "    <tr>\n",
       "      <th>2204</th>\n",
       "      <td>g oublié travis scott</td>\n",
       "    </tr>\n",
       "    <tr>\n",
       "      <th>2205</th>\n",
       "      <td>travis scott's interview didn't heal anyone, s...</td>\n",
       "    </tr>\n",
       "  </tbody>\n",
       "</table>\n",
       "<p>2206 rows × 1 columns</p>\n",
       "</div>"
      ],
      "text/plain": [
       "                                                   text\n",
       "0     travis scott and olivia rodrigo were among the...\n",
       "1     travis scott, olivia rodrigo's 'drivers licens...\n",
       "2     travis scott and olivia rodrigo lead google's ...\n",
       "3                            travis scott and yb better\n",
       "4     travis scott sa ibang bansa al james sa pilipi...\n",
       "...                                                 ...\n",
       "2201  breaking: drake allegedly slept with kylie jen...\n",
       "2202  another bad day for drake fans, as he is accus...\n",
       "2203    pessgo purrycrossed swordspirate flagbilled cap\n",
       "2204                              g oublié travis scott\n",
       "2205  travis scott's interview didn't heal anyone, s...\n",
       "\n",
       "[2206 rows x 1 columns]"
      ]
     },
     "execution_count": 17,
     "metadata": {},
     "output_type": "execute_result"
    }
   ],
   "source": [
    "import pandas as pd\n",
    "import numpy as np\n",
    "ls=[]\n",
    "\n",
    "with open(\"最新关键词搜索结果.txt\", \"r\", encoding='utf8') as f:\n",
    "    for line in f.readlines():\n",
    "        line = line.strip('\\n').replace('’', \"'\").replace('‘', \"'\").lower()\n",
    "        if \"@\" not in line and len(line)>=20:\n",
    "            ls.append(line)\n",
    "\n",
    "#数据预处理\n",
    "data=pd.DataFrame(ls)\n",
    "data.columns=['text']\n",
    "data=data.dropna().drop_duplicates().reset_index(drop=True)\n",
    "data\n",
    "#data.to_excel('111.xlsx',index=None)"
   ]
  },
  {
   "cell_type": "code",
   "execution_count": 18,
   "metadata": {},
   "outputs": [
    {
     "name": "stdout",
     "output_type": "stream",
     "text": [
      "{'travis': 0.9046003936384216, 'scott': 0.8926895083444992, 'astroworld': 0.25138236857173046, 'interview': 0.1698868376133141, 'tragedy': 0.09152575015329838, 'face': 0.0727190891628946, 'festival': 0.07083842306385423, 'people': 0.06895775696481383, 'concert': 0.06456953606705296, '10': 0.0633157586676927, 'cacti': 0.05077798467409019, 'charlamagne': 0.046389763776329314, 'travisscott': 0.046389763776329314, 'god': 0.04576287507664919, 'seltzer': 0.04450909767728893, 'show': 0.04450909767728893, 'drake': 0.043882208977608805, 'victims': 0.04325532027792868, 'music': 0.041374654178888304, 'silence': 0.03824021068048768, 'didn': 0.03824021068048768, 'hard': 0.035732655881767175, 'rapper': 0.03447887848240692, 'fans': 0.03447887848240692, 'discontinued': 0.03322510108304667, 'radio': 0.03259821238336654, 'tears': 0.031971323683686416, 'houston': 0.031971323683686416, 'anheuser': 0.03134443498400629, 'busch': 0.030717546284326165, 'news': 0.03009065758464604, 'families': 0.03009065758464604, 'breaks': 0.028209991485605664, 'don': 0.026329325386565284, 'young': 0.02570243668688516, 'crowd': 0.024448659287524908, 'attorney': 0.024448659287524908, 'thug': 0.023194881888164657, 'feat': 0.022567993188484528, 'ft': 0.022567993188484528, 'youtu': 0.021941104488804403, 'man': 0.021941104488804403, 'killed': 0.021941104488804403, 'time': 0.021941104488804403, '2021': 0.021314215789124277, 'listen': 0.021314215789124277, 'bad': 0.021314215789124277, 'nowplaying': 0.020687327089444152, 've': 0.0194335496900839, 'shit': 0.018806660990403776, 'se': 0.01817977229072365, 'stop': 0.017552883591043525, 'died': 0.017552883591043525, 'victim': 0.017552883591043525, 'responsibility': 0.016925994891363396, 'month': 0.016925994891363396, 'twitter': 0.016925994891363396, 'playing': 0.01629910619168327, 'found': 0.01629910619168327, 'jordan': 0.015672217492003145, 'flag': 0.015672217492003145, 'injured': 0.015672217492003145, 'utm': 0.015672217492003145, 'crying': 0.01504532879232302, 'lil': 0.01504532879232302, 'kylie': 0.01504532879232302, 'happened': 0.014418440092642894, 'pay': 0.014418440092642894, 'nike': 0.013791551392962769, 'jenner': 0.013791551392962769, 'ya': 0.013164662693282642, 'deaths': 0.013164662693282642, 'kanye': 0.013164662693282642, '12': 0.013164662693282642, 'good': 0.013164662693282642, 'joyface': 0.013164662693282642, 'heal': 0.013164662693282642, 'll': 0.013164662693282642, 'year': 0.012537773993602517, 'baby': 0.012537773993602517, 'brand': 0.012537773993602517, 'heart': 0.012537773993602517, 'world': 0.012537773993602517, 'blame': 0.012537773993602517, 'family': 0.012537773993602517, 'performance': 0.012537773993602517, 'black': 0.012537773993602517, 'back': 0.011910885293922391, 'watch': 0.011910885293922391, 'official': 0.011910885293922391, 'damn': 0.011910885293922391, 'por': 0.011910885293922391, 'deadly': 0.011910885293922391, 'offer': 0.011910885293922391, 'screaming': 0.011910885293922391, 'ce%': 0.011910885293922391, 'unaware': 0.011283996594242264, 'floor': 0.011283996594242264, 'rap': 0.011283996594242264, 'tmz': 0.011283996594242264}\n"
     ]
    },
    {
     "data": {
      "text/plain": [
       "<wordcloud.wordcloud.WordCloud at 0x26f06c3e1c8>"
      ]
     },
     "execution_count": 18,
     "metadata": {},
     "output_type": "execute_result"
    },
    {
     "data": {
      "image/png": "[encoded data removed]",
      "text/plain": [
       "<Figure size 700x700 with 1 Axes>"
      ]
     },
     "metadata": {
      "needs_background": "light"
     },
     "output_type": "display_data"
    }
   ],
   "source": [
    "#词云分析\n",
    "import matplotlib.pyplot as plt\n",
    "import wordcloud\n",
    "import jieba\n",
    "from wordcloud import ImageColorGenerator\n",
    "from imageio import imread \n",
    "import jieba.analyse as ana\n",
    "from wordcloud import WordCloud\n",
    "\n",
    "%matplotlib inline\n",
    "jieba.add_word(\"travis scott\")\n",
    "\n",
    "\n",
    "#处理文本，去除停用词\n",
    "#参数1.withWeight设置为True时可以显示词的权重         2.topK设置显示的词的个数\n",
    "if __name__ == '__main__':    \n",
    "     with open(\"推特文本.txt\",encoding='utf-8') as f:\n",
    "        text_read = f.read()                        #读取文件\n",
    "\n",
    "     ana.set_stop_words('stopwords.txt')         # 输入停用词\n",
    "     word_list=ana.extract_tags(text_read,topK=100,withWeight=True)      #去除停用词+词频分析\n",
    "     word_dict = {}                         #转化为字典形式以便做词云图\n",
    "     for i in word_list:\n",
    "         word_dict[i[0]]=i[1]\n",
    "        \n",
    "     print(word_dict)\n",
    "           \n",
    "#设置词云操作对象 WordCloud\n",
    "mk=imread(\"scott.jpg\")\n",
    "w = wordcloud.WordCloud(max_words=50,background_color='white',         #显示最大单词数量为50\n",
    "                        font_path='simhei.ttf',      \n",
    "                        random_state=50,                               \n",
    "                        mask=mk)                                       #设置词云形状                           \n",
    "\n",
    "#将txt变量传入w的generate()方法，给词云输入文字\n",
    "txt=w.fit_words(word_dict)\n",
    "bimColors=ImageColorGenerator(mk)\n",
    "plt.figure(dpi=100,figsize=(7,7))\n",
    "plt.imshow(txt.recolor(color_func=bimColors))      #显示词云图\n",
    "plt.axis('off')      #不显示x、y轴\n",
    "\n",
    "# 将词云图片导出到当前文件夹\n",
    "txt.to_file(\"grwordcloud_recently_tweet.png\")"
   ]
  },
  {
   "cell_type": "code",
   "execution_count": 19,
   "metadata": {},
   "outputs": [
    {
     "data": {
      "text/html": [
       "<div>\n",
       "<style scoped>\n",
       "    .dataframe tbody tr th:only-of-type {\n",
       "        vertical-align: middle;\n",
       "    }\n",
       "\n",
       "    .dataframe tbody tr th {\n",
       "        vertical-align: top;\n",
       "    }\n",
       "\n",
       "    .dataframe thead th {\n",
       "        text-align: right;\n",
       "    }\n",
       "</style>\n",
       "<table border=\"1\" class=\"dataframe\">\n",
       "  <thead>\n",
       "    <tr style=\"text-align: right;\">\n",
       "      <th></th>\n",
       "      <th>count</th>\n",
       "      <th>mean</th>\n",
       "      <th>std</th>\n",
       "      <th>min</th>\n",
       "      <th>25%</th>\n",
       "      <th>50%</th>\n",
       "      <th>75%</th>\n",
       "      <th>max</th>\n",
       "    </tr>\n",
       "  </thead>\n",
       "  <tbody>\n",
       "    <tr>\n",
       "      <th>polarity</th>\n",
       "      <td>2206.0</td>\n",
       "      <td>0.024582</td>\n",
       "      <td>0.232052</td>\n",
       "      <td>-1.0</td>\n",
       "      <td>0.0</td>\n",
       "      <td>0.0</td>\n",
       "      <td>0.012292</td>\n",
       "      <td>1.0</td>\n",
       "    </tr>\n",
       "    <tr>\n",
       "      <th>subjectivity</th>\n",
       "      <td>2206.0</td>\n",
       "      <td>0.235123</td>\n",
       "      <td>0.298148</td>\n",
       "      <td>0.0</td>\n",
       "      <td>0.0</td>\n",
       "      <td>0.0</td>\n",
       "      <td>0.498106</td>\n",
       "      <td>1.0</td>\n",
       "    </tr>\n",
       "  </tbody>\n",
       "</table>\n",
       "</div>"
      ],
      "text/plain": [
       "               count      mean       std  min  25%  50%       75%  max\n",
       "polarity      2206.0  0.024582  0.232052 -1.0  0.0  0.0  0.012292  1.0\n",
       "subjectivity  2206.0  0.235123  0.298148  0.0  0.0  0.0  0.498106  1.0"
      ]
     },
     "execution_count": 19,
     "metadata": {},
     "output_type": "execute_result"
    },
    {
     "data": {
      "image/png": "[encoded data removed]",
      "text/plain": [
       "<Figure size 432x288 with 1 Axes>"
      ]
     },
     "metadata": {
      "needs_background": "light"
     },
     "output_type": "display_data"
    },
    {
     "data": {
      "image/png": "[encoded data removed]",
      "text/plain": [
       "<Figure size 432x288 with 1 Axes>"
      ]
     },
     "metadata": {
      "needs_background": "light"
     },
     "output_type": "display_data"
    }
   ],
   "source": [
    "# 计算情感\n",
    "from textblob import TextBlob\n",
    "\n",
    "data['polarity']=data['text'].apply(lambda x:TextBlob(x).sentiment.polarity)\n",
    "data['subjectivity']=data['text'].apply(lambda x:TextBlob(x).sentiment.subjectivity)\n",
    "#data.to_excel('最终情感分析结果.xlsx',index=None)\n",
    "\n",
    "#分析人们的大致观点,可以看到大部分人还是比较客观且中性\n",
    "#目前网上关于scott话题都是比较客观且中性\n",
    "data.hist(column='polarity',bins=20)\n",
    "data.hist(column='subjectivity',bins=10)\n",
    "\n",
    "#查看情感和客观性的描述性统计\n",
    "data[['polarity','subjectivity']].describe().T"
   ]
  },
  {
   "cell_type": "markdown",
   "metadata": {},
   "source": [
    "# 三、道歉文本分析"
   ]
  },
  {
   "cell_type": "code",
   "execution_count": 20,
   "metadata": {},
   "outputs": [
    {
     "data": {
      "text/html": [
       "<div>\n",
       "<style scoped>\n",
       "    .dataframe tbody tr th:only-of-type {\n",
       "        vertical-align: middle;\n",
       "    }\n",
       "\n",
       "    .dataframe tbody tr th {\n",
       "        vertical-align: top;\n",
       "    }\n",
       "\n",
       "    .dataframe thead th {\n",
       "        text-align: right;\n",
       "    }\n",
       "</style>\n",
       "<table border=\"1\" class=\"dataframe\">\n",
       "  <thead>\n",
       "    <tr style=\"text-align: right;\">\n",
       "      <th></th>\n",
       "      <th>text</th>\n",
       "    </tr>\n",
       "  </thead>\n",
       "  <tbody>\n",
       "    <tr>\n",
       "      <th>0</th>\n",
       "      <td>you're not responsible for deaths &amp; injuries a...</td>\n",
       "    </tr>\n",
       "    <tr>\n",
       "      <th>1</th>\n",
       "      <td>paapa wondersflag of south africa+27782522715.</td>\n",
       "    </tr>\n",
       "    <tr>\n",
       "      <th>2</th>\n",
       "      <td>14 year old boy crushed to death. think about ...</td>\n",
       "    </tr>\n",
       "    <tr>\n",
       "      <th>3</th>\n",
       "      <td>people are placing blame on the wrong individu...</td>\n",
       "    </tr>\n",
       "    <tr>\n",
       "      <th>4</th>\n",
       "      <td>\"yeeeeaahhhhhhhhhhhhh\"</td>\n",
       "    </tr>\n",
       "    <tr>\n",
       "      <th>...</th>\n",
       "      <td>...</td>\n",
       "    </tr>\n",
       "    <tr>\n",
       "      <th>221</th>\n",
       "      <td>travisssss i lovi yore contant i lovi u!!!</td>\n",
       "    </tr>\n",
       "    <tr>\n",
       "      <th>222</th>\n",
       "      <td>tryboysam ( no sweat me cool rip roblox )</td>\n",
       "    </tr>\n",
       "    <tr>\n",
       "      <th>223</th>\n",
       "      <td>hi travis scott we should meet up some time i ...</td>\n",
       "    </tr>\n",
       "    <tr>\n",
       "      <th>224</th>\n",
       "      <td>do you really love yr fans?</td>\n",
       "    </tr>\n",
       "    <tr>\n",
       "      <th>225</th>\n",
       "      <td>after your recent album, i think ive given up....</td>\n",
       "    </tr>\n",
       "  </tbody>\n",
       "</table>\n",
       "<p>226 rows × 1 columns</p>\n",
       "</div>"
      ],
      "text/plain": [
       "                                                  text\n",
       "0    you're not responsible for deaths & injuries a...\n",
       "1       paapa wondersflag of south africa+27782522715.\n",
       "2    14 year old boy crushed to death. think about ...\n",
       "3    people are placing blame on the wrong individu...\n",
       "4                               \"yeeeeaahhhhhhhhhhhhh\"\n",
       "..                                                 ...\n",
       "221         travisssss i lovi yore contant i lovi u!!!\n",
       "222          tryboysam ( no sweat me cool rip roblox )\n",
       "223  hi travis scott we should meet up some time i ...\n",
       "224                        do you really love yr fans?\n",
       "225  after your recent album, i think ive given up....\n",
       "\n",
       "[226 rows x 1 columns]"
      ]
     },
     "execution_count": 20,
     "metadata": {},
     "output_type": "execute_result"
    }
   ],
   "source": [
    "import pandas as pd\n",
    "import numpy as np\n",
    "ls=[]\n",
    "\n",
    "with open(\"道歉文本.txt\", \"r\", encoding='utf8') as f:\n",
    "    for line in f.readlines():\n",
    "        line = line.strip('\\n').replace('’', \"'\").replace('‘', \"'\").lower()\n",
    "        if \"@\" not in line and len(line)>=20:\n",
    "            ls.append(line)\n",
    "\n",
    "#数据预处理\n",
    "data=pd.DataFrame(ls)\n",
    "data.columns=['text']\n",
    "data=data.dropna().drop_duplicates().reset_index(drop=True)\n",
    "data"
   ]
  },
  {
   "cell_type": "code",
   "execution_count": 21,
   "metadata": {},
   "outputs": [
    {
     "data": {
      "text/html": [
       "<div>\n",
       "<style scoped>\n",
       "    .dataframe tbody tr th:only-of-type {\n",
       "        vertical-align: middle;\n",
       "    }\n",
       "\n",
       "    .dataframe tbody tr th {\n",
       "        vertical-align: top;\n",
       "    }\n",
       "\n",
       "    .dataframe thead th {\n",
       "        text-align: right;\n",
       "    }\n",
       "</style>\n",
       "<table border=\"1\" class=\"dataframe\">\n",
       "  <thead>\n",
       "    <tr style=\"text-align: right;\">\n",
       "      <th></th>\n",
       "      <th>text</th>\n",
       "    </tr>\n",
       "  </thead>\n",
       "  <tbody>\n",
       "    <tr>\n",
       "      <th>0</th>\n",
       "      <td>you're not responsible for deaths &amp; injuries a...</td>\n",
       "    </tr>\n",
       "    <tr>\n",
       "      <th>1</th>\n",
       "      <td>paapa wondersflag of south africa+27782522715.</td>\n",
       "    </tr>\n",
       "    <tr>\n",
       "      <th>2</th>\n",
       "      <td>14 year old boy crushed to death. think about ...</td>\n",
       "    </tr>\n",
       "    <tr>\n",
       "      <th>3</th>\n",
       "      <td>people are placing blame on the wrong individu...</td>\n",
       "    </tr>\n",
       "    <tr>\n",
       "      <th>4</th>\n",
       "      <td>\"yeeeeaahhhhhhhhhhhhh\"</td>\n",
       "    </tr>\n",
       "    <tr>\n",
       "      <th>...</th>\n",
       "      <td>...</td>\n",
       "    </tr>\n",
       "    <tr>\n",
       "      <th>221</th>\n",
       "      <td>travisssss i lovi yore contant i lovi u!!!</td>\n",
       "    </tr>\n",
       "    <tr>\n",
       "      <th>222</th>\n",
       "      <td>tryboysam ( no sweat me cool rip roblox )</td>\n",
       "    </tr>\n",
       "    <tr>\n",
       "      <th>223</th>\n",
       "      <td>hi travis scott we should meet up some time i ...</td>\n",
       "    </tr>\n",
       "    <tr>\n",
       "      <th>224</th>\n",
       "      <td>do you really love yr fans?</td>\n",
       "    </tr>\n",
       "    <tr>\n",
       "      <th>225</th>\n",
       "      <td>after your recent album, i think ive given up....</td>\n",
       "    </tr>\n",
       "  </tbody>\n",
       "</table>\n",
       "<p>226 rows × 1 columns</p>\n",
       "</div>"
      ],
      "text/plain": [
       "                                                  text\n",
       "0    you're not responsible for deaths & injuries a...\n",
       "1       paapa wondersflag of south africa+27782522715.\n",
       "2    14 year old boy crushed to death. think about ...\n",
       "3    people are placing blame on the wrong individu...\n",
       "4                               \"yeeeeaahhhhhhhhhhhhh\"\n",
       "..                                                 ...\n",
       "221         travisssss i lovi yore contant i lovi u!!!\n",
       "222          tryboysam ( no sweat me cool rip roblox )\n",
       "223  hi travis scott we should meet up some time i ...\n",
       "224                        do you really love yr fans?\n",
       "225  after your recent album, i think ive given up....\n",
       "\n",
       "[226 rows x 1 columns]"
      ]
     },
     "execution_count": 21,
     "metadata": {},
     "output_type": "execute_result"
    }
   ],
   "source": [
    "#继续处理\n",
    "ls=[]\n",
    "\n",
    "with open(\"道歉处理后文本.txt\", \"r\", encoding='utf8') as f:\n",
    "    for line in f.readlines():\n",
    "        line = line.strip('\\n').replace('’', \"'\").replace('‘', \"'\").lower().strip()\n",
    "        if len(line)>=20:\n",
    "            ls.append(line)\n",
    "\n",
    "#数据预处理\n",
    "data=pd.DataFrame(ls)\n",
    "data.columns=['text']\n",
    "data=data.dropna().drop_duplicates().reset_index(drop=True)\n",
    "data"
   ]
  },
  {
   "cell_type": "code",
   "execution_count": 22,
   "metadata": {},
   "outputs": [
    {
     "name": "stdout",
     "output_type": "stream",
     "text": [
      "{'people': 0.29123319525781344, 'travis': 0.277026697928164, 'show': 0.14206497329649434, 'scott': 0.1278584759668449, 'concert': 0.1207552273020202, 'stop': 0.1207552273020202, 'heartred': 0.1207552273020202, 'astroworld': 0.09944548130754605, 'crowd': 0.09944548130754605, 'man': 0.07813573531307189, 'don': 0.07813573531307189, 'stopped': 0.07103248664824717, 've': 0.07103248664824717, 'heart': 0.07103248664824717, 'didn': 0.06392923798342245, 'fans': 0.06392923798342245, 'face': 0.06392923798342245, 'responsible': 0.05682598931859774, 'video': 0.05682598931859774, 'fault': 0.04972274065377302, 'devastated': 0.04972274065377302, 'happened': 0.04972274065377302, 'hands': 0.04972274065377302, 'blame': 0.04261949198894831, 'festival': 0.04261949198894831, 'music': 0.04261949198894831, 'prayers': 0.04261949198894831, 'family': 0.04261949198894831, 'interview': 0.04261949198894831, 'stage': 0.04261949198894831, 'bruh': 0.04261949198894831, 'time': 0.04261949198894831, 'love': 0.04261949198894831, '..': 0.035516243324123585, 'make': 0.035516243324123585, 'drop': 0.035516243324123585, 'bro': 0.035516243324123585, 'subscribe': 0.035516243324123585, 'lies': 0.035516243324123585, 'folded': 0.035516243324123585, 'held': 0.035516243324123585, 'venue': 0.035516243324123585, 'hurt': 0.035516243324123585, 'died': 0.035516243324123585, 'hear': 0.035516243324123585, 'play': 0.02841299465929887, 'families': 0.02841299465929887, 'parents': 0.02841299465929887, 'child': 0.02841299465929887, 'dead': 0.02841299465929887, 'fan': 0.02841299465929887, 'cancel': 0.02841299465929887, 'support': 0.02841299465929887, 'lost': 0.02841299465929887, 'injured': 0.02841299465929887, 'tragedy': 0.02841299465929887, 'fire': 0.02841299465929887, 'points': 0.02841299465929887, 'ur': 0.02841299465929887, 'money': 0.02841299465929887, 'pr': 0.02841299465929887, 'responsibility': 0.02841299465929887, 'artist': 0.02841299465929887, 'shit': 0.02841299465929887, 'ain': 0.02841299465929887, 'security': 0.02841299465929887, 'crazy': 0.02841299465929887, 'pray': 0.02841299465929887, 'couldn': 0.02841299465929887, 'apology': 0.02841299465929887, '50k': 0.02841299465929887, 'hard': 0.02841299465929887, 'guess': 0.02841299465929887, 'found': 0.021309745994474154, 'incident': 0.021309745994474154, 'crushed': 0.021309745994474154, 'death': 0.021309745994474154, 'wtf': 0.021309745994474154, 'hope': 0.021309745994474154, 'baby': 0.021309745994474154, 'girl': 0.021309745994474154, 'times': 0.021309745994474154, 'carried': 0.021309745994474154, 'guys': 0.021309745994474154, 'wasn': 0.021309745994474154, 'utopia': 0.021309745994474154, 'clear': 0.021309745994474154, 'knew': 0.021309745994474154, 'happening': 0.021309745994474154, 'victim': 0.021309745994474154, 'weeks': 0.021309745994474154, 'sickening': 0.021309745994474154, 'larger': 0.021309745994474154, 'full': 0.021309745994474154, 'symbol': 0.021309745994474154, 'song': 0.021309745994474154, 'fucking': 0.021309745994474154, 'tragic': 0.021309745994474154, 'nft': 0.021309745994474154, 'pay': 0.021309745994474154}\n"
     ]
    },
    {
     "data": {
      "text/plain": [
       "<wordcloud.wordcloud.WordCloud at 0x26f0a4880c8>"
      ]
     },
     "execution_count": 22,
     "metadata": {},
     "output_type": "execute_result"
    },
    {
     "data": {
      "image/png": "[encoded data removed]",
      "text/plain": [
       "<Figure size 700x700 with 1 Axes>"
      ]
     },
     "metadata": {
      "needs_background": "light"
     },
     "output_type": "display_data"
    }
   ],
   "source": [
    "#词云分析\n",
    "import matplotlib.pyplot as plt\n",
    "import wordcloud\n",
    "import jieba\n",
    "from wordcloud import ImageColorGenerator\n",
    "from imageio import imread \n",
    "import jieba.analyse as ana\n",
    "from wordcloud import WordCloud\n",
    "\n",
    "%matplotlib inline\n",
    "jieba.add_word(\"travis scott\")\n",
    "\n",
    "\n",
    "#处理文本，去除停用词\n",
    "#参数1.withWeight设置为True时可以显示词的权重         2.topK设置显示的词的个数\n",
    "if __name__ == '__main__':    \n",
    "     with open(\"道歉处理后最终文本.txt\",encoding='utf-8') as f:\n",
    "        text_read = f.read()                        #读取文件\n",
    "\n",
    "     ana.set_stop_words('stopwords.txt')         # 输入停用词\n",
    "     word_list=ana.extract_tags(text_read,topK=100,withWeight=True)      #去除停用词+词频分析\n",
    "     word_dict = {}                         #转化为字典形式以便做词云图\n",
    "     for i in word_list:\n",
    "         word_dict[i[0]]=i[1]\n",
    "        \n",
    "     print(word_dict)\n",
    "           \n",
    "#设置词云操作对象 WordCloud\n",
    "mk=imread(\"scott.jpg\")\n",
    "w = wordcloud.WordCloud(max_words=50,background_color='white',         #显示最大单词数量为50\n",
    "                        font_path='simhei.ttf',      \n",
    "                        random_state=50,                               \n",
    "                        mask=mk)                                       #设置词云形状                           \n",
    "\n",
    "#将txt变量传入w的generate()方法，给词云输入文字\n",
    "txt=w.fit_words(word_dict)\n",
    "bimColors=ImageColorGenerator(mk)\n",
    "plt.figure(dpi=100,figsize=(7,7))\n",
    "plt.imshow(txt.recolor(color_func=bimColors))      #显示词云图\n",
    "plt.axis('off')      #不显示x、y轴\n",
    "\n",
    "# 将词云图片导出到当前文件夹\n",
    "txt.to_file(\"grwordcloud_apology.png\")"
   ]
  },
  {
   "cell_type": "code",
   "execution_count": 23,
   "metadata": {},
   "outputs": [
    {
     "data": {
      "text/html": [
       "<div>\n",
       "<style scoped>\n",
       "    .dataframe tbody tr th:only-of-type {\n",
       "        vertical-align: middle;\n",
       "    }\n",
       "\n",
       "    .dataframe tbody tr th {\n",
       "        vertical-align: top;\n",
       "    }\n",
       "\n",
       "    .dataframe thead th {\n",
       "        text-align: right;\n",
       "    }\n",
       "</style>\n",
       "<table border=\"1\" class=\"dataframe\">\n",
       "  <thead>\n",
       "    <tr style=\"text-align: right;\">\n",
       "      <th></th>\n",
       "      <th>count</th>\n",
       "      <th>mean</th>\n",
       "      <th>std</th>\n",
       "      <th>min</th>\n",
       "      <th>25%</th>\n",
       "      <th>50%</th>\n",
       "      <th>75%</th>\n",
       "      <th>max</th>\n",
       "    </tr>\n",
       "  </thead>\n",
       "  <tbody>\n",
       "    <tr>\n",
       "      <th>polarity</th>\n",
       "      <td>226.0</td>\n",
       "      <td>-0.000135</td>\n",
       "      <td>0.258143</td>\n",
       "      <td>-1.0</td>\n",
       "      <td>0.0</td>\n",
       "      <td>0.00000</td>\n",
       "      <td>0.098437</td>\n",
       "      <td>0.7</td>\n",
       "    </tr>\n",
       "    <tr>\n",
       "      <th>subjectivity</th>\n",
       "      <td>226.0</td>\n",
       "      <td>0.298819</td>\n",
       "      <td>0.320569</td>\n",
       "      <td>0.0</td>\n",
       "      <td>0.0</td>\n",
       "      <td>0.23125</td>\n",
       "      <td>0.550000</td>\n",
       "      <td>1.0</td>\n",
       "    </tr>\n",
       "  </tbody>\n",
       "</table>\n",
       "</div>"
      ],
      "text/plain": [
       "              count      mean       std  min  25%      50%       75%  max\n",
       "polarity      226.0 -0.000135  0.258143 -1.0  0.0  0.00000  0.098437  0.7\n",
       "subjectivity  226.0  0.298819  0.320569  0.0  0.0  0.23125  0.550000  1.0"
      ]
     },
     "execution_count": 23,
     "metadata": {},
     "output_type": "execute_result"
    },
    {
     "data": {
      "image/png": "[encoded data removed]",
      "text/plain": [
       "<Figure size 432x288 with 1 Axes>"
      ]
     },
     "metadata": {
      "needs_background": "light"
     },
     "output_type": "display_data"
    },
    {
     "data": {
      "image/png": "[encoded data removed]",
      "text/plain": [
       "<Figure size 432x288 with 1 Axes>"
      ]
     },
     "metadata": {
      "needs_background": "light"
     },
     "output_type": "display_data"
    }
   ],
   "source": [
    "# 计算情感\n",
    "from textblob import TextBlob\n",
    "\n",
    "data['polarity']=data['text'].apply(lambda x:TextBlob(x).sentiment.polarity)\n",
    "data['subjectivity']=data['text'].apply(lambda x:TextBlob(x).sentiment.subjectivity)\n",
    "data.to_excel('道歉文本最终情感分析结果.xlsx',index=None)\n",
    "\n",
    "#分析人们的大致观点,相比于最近话题分析\n",
    "#道歉推文下的评论更加主观且负面，当时人们是比较激动的，但是最近确实被遗忘了\n",
    "data.hist(column='polarity',bins=20)\n",
    "data.hist(column='subjectivity',bins=10)\n",
    "\n",
    "#查看情感和客观性的描述性统计\n",
    "data[['polarity','subjectivity']].describe().T"
   ]
  },
  {
   "cell_type": "markdown",
   "metadata": {},
   "source": [
    "# 四、YouTube 播放量影响分析"
   ]
  },
  {
   "cell_type": "code",
   "execution_count": 24,
   "metadata": {},
   "outputs": [
    {
     "data": {
      "text/plain": [
       "Text(0.5, 1, 'Variation trend of playback volume of the last 10 videos')"
      ]
     },
     "execution_count": 24,
     "metadata": {},
     "output_type": "execute_result"
    },
    {
     "data": {
      "image/png": "[encoded data removed]",
      "text/plain": [
       "<Figure size 432x288 with 1 Axes>"
      ]
     },
     "metadata": {
      "needs_background": "light"
     },
     "output_type": "display_data"
    }
   ],
   "source": [
    "import pandas as pd\n",
    "import numpy as np\n",
    "import warnings\n",
    "warnings.filterwarnings(\"ignore\")\n",
    "\n",
    "ls=[]\n",
    "\n",
    "with open(\"YouTube视频播放量.txt\", \"r\", encoding='utf8') as f:\n",
    "    for line in f.readlines():\n",
    "        line = line.strip('\\n').replace('直播时间：', '').replace('观看', '')\n",
    "        if line!='' and line!='字幕' and line!='正在播放':\n",
    "            ls.append(line)\n",
    "\n",
    "#数据预处理\n",
    "data=pd.DataFrame(ls)\n",
    "data.columns=['text']\n",
    "data=data.dropna().reset_index(drop=True)\n",
    "title=data.loc[[i for i in data.index if i%4==1]].reset_index(drop=True)\n",
    "view=data.loc[[i for i in data.index if i%4==2]].reset_index(drop=True)\n",
    "time=data.loc[[i for i in data.index if i%4==3]].reset_index(drop=True)\n",
    "data=pd.concat([title,view],axis=1)\n",
    "data=pd.concat([data,time],axis=1)\n",
    "data.columns=['title','view','time']\n",
    "\n",
    "def view_count(df):\n",
    "    if '万次' in df:\n",
    "        z=df.replace('万次','')\n",
    "        z=float(z)\n",
    "    if '亿' in df:\n",
    "        z=df.replace('亿次','')\n",
    "        z=float(z)*10000\n",
    "    return z\n",
    "\n",
    "data['view']=data['view'].apply(lambda x:view_count(x))\n",
    "\n",
    "#比较出事前后播放量变化\n",
    "plt\n",
    "plt.plot(data['view'][:10])\n",
    "_ = plt.xticks(range(10),data['time'][:10])\n",
    "plt.tight_layout(pad=0.4, w_pad=3.0, h_pad=3.0)\n",
    "plt.title(\"Variation trend of playback volume of the last 10 videos\")"
   ]
  }
 ],
 "metadata": {
  "interpreter": {
   "hash": "a8f61be024eba58adef938c9aa1e29e02cb3dece83a5348b1a2dafd16a070453"
  },
  "kernelspec": {
   "display_name": "Python 3 (ipykernel)",
   "language": "python",
   "name": "python3"
  },
  "language_info": {
   "codemirror_mode": {
    "name": "ipython",
    "version": 3
   },
   "file_extension": ".py",
   "mimetype": "text/x-python",
   "name": "python",
   "nbconvert_exporter": "python",
   "pygments_lexer": "ipython3",
   "version": "3.8.12"
  }
 },
 "nbformat": 4,
 "nbformat_minor": 2
}
